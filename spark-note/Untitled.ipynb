{
 "cells": [
  {
   "cell_type": "code",
   "execution_count": 22,
   "id": "5c6d865c",
   "metadata": {},
   "outputs": [],
   "source": [
    "import requests\n",
    "from bs4 import BeautifulSoup\n",
    "import selenium\n",
    "from selenium.webdriver import Chrome\n",
    "import time\n",
    "import re\n",
    "from selenium.webdriver.common.by import By"
   ]
  },
  {
   "cell_type": "code",
   "execution_count": 44,
   "id": "8845d119",
   "metadata": {
    "scrolled": true
   },
   "outputs": [
    {
     "data": {
      "text/plain": [
       "'주요 기록\\n주요 기록\\n결승타 오그레디(3회 2사 1,2루서 우월 홈런)\\n홈런 오그레디2호(3회3점 슐서) 장성우1호(4회1점 장민재)\\n2루타 문현빈(1회) 알포드(2회) 문상철(7회)\\n도루 이진영(5회)\\n도루자 송민섭(3회)\\n병살타 장성우(1회) 최재훈(2회) 박상언(5회)\\n폭투 슐서(1회) 김민(5회) 김영현(7회)\\n심판 권영철 차정구 전일수 유덕형\\nKT 타자 기록\\nKT 타자 기록\\n타순 포지션 이름 1 2 3 4 5 6 7 8 9 10 11 12 타수 득점 안타 타점 타율\\n1 지 조용호 중안 중비 중비 3 0 1 0 0.444\\n1 타 문상철 좌중2 1 0 1 0 0.571\\n2 二 박경수 삼진 삼진 우안 3 0 1 0 0.091\\n2 주二 오윤석 삼진 1 0 0 0 0.143\\n3 포 장성우 3병 좌중홈 2 1 1 1 0.375\\n3 포 김준태 중비 투땅 2 0 0 0 0.300\\n4 좌 알포드 중2 유땅 삼진 3 1 1 0 0.200\\n4 중 정준영 2땅 1 0 0 0 0.143\\n5 三 황재균 우비 3땅 2 0 0 0 0.111\\n5 타三 류현인 삼진 3땅 2 0 0 0 0.167\\n6 중 배정대 유안 4구 1 1 1 1 0.444\\n6 중좌 김민혁 중비 삼진 2 0 0 0 0.000\\n7 유 신본기 중비 중안 2 0 1 0 0.250\\n7 타유 이상호 유비 삼진 2 0 0 0 0.167\\n8 一 강민성 투땅 좌안 삼진 중비 4 0 1 1 0.214\\n9 우 송민섭 4구 4구 삼진 1 0 0 0 0.000\\n9 타 최성민 삼진 1 0 0 0 0.000\\n합계 33 3 8 3\\n한화 타자 기록\\n한화 타자 기록\\n타순 포지션 이름 1 2 3 4 5 6 7 8 9 10 11 12 타수 득점 안타 타점 타율\\n1 좌중 이원석 삼진 3좌안 4구 삼진 3 1 1 0 0.333\\n2 중二 문현빈 중2 중직 삼진 삼진 4 1 1 0 0.300\\n3 二 정은원 4구 유안 좌안 2 1 2 0 0.375\\n3 주좌 이진영 3땅 1 1 0 0 0.000\\n4 一 오그레디 좌희비 우홈 1 1 1 4 0.167\\n4 一 김인환 4구 1직 1 0 0 0 0.286\\n5 三 김태연 2비 3땅 우중안 스낫 4 0 1 1 0.375\\n6 지 이명기 3비 1땅 투땅 유땅 4 0 0 0 0.000\\n7 우 장진혁 우중안 3비 4구 유땅 3 0 1 0 0.222\\n8 포 최재훈 투병 좌안 2 0 1 0 0.250\\n8 주포 박상언 3병 중비 2 0 0 0 0.000\\n9 유 이도윤 2비 4구 중비 우비 3 0 0 0 0.000\\n합계 30 5 8 5\\nKT 투수 기록\\nKT 투수 기록\\n선수명 등판 결과 승 패 세 이닝 타자 투구수 타수 피안타 피홈런 사구 삼진 실점 자책 평균 자책점\\n슐서 패 0 1 0 3 14 46 12 5 1 1 1 4 4 12.00\\n심재민 4.6 0 0 0 1 8 26 5 2 0 3 1 1 1 4.50\\n김민 5.4 0 0 0 2 7 34 6 1 0 1 2 0 0 0.00\\n김영현 7.3 0 0 0 1 4 23 4 0 0 0 1 0 0 0.00\\n박영현 8.7 0 0 1 1 3 14 3 0 0 0 0 0 0 0.00\\n한화 투수 기록\\n한화 투수 기록\\n선수명 등판 결과 승 패 세 이닝 타자 투구수 타수 피안타 피홈런 사구 삼진 실점 자책 평균 자책점\\n장민재 승 1 0 0 3 ⅔ 18 63 15 6 1 3 2 3 3 7.36\\n이태양 4.1 홀드 0 0 0 1 ⅓ 5 17 5 1 0 0 2 0 0 0.00\\n강재민 6.6 홀드 0 0 0 1 3 15 3 0 0 0 1 0 0 0.00\\n윤산흠 7.9 홀드 0 0 0 1 4 13 4 1 0 0 2 0 0 0.00\\n한승혁 8.4 홀드 0 0 0 1 3 10 3 0 0 0 1 0 0 0.00\\n김범수 9.7 S 0 0 1 1 3 12 3 0 0 0 2 0 0 0.00'"
      ]
     },
     "execution_count": 44,
     "metadata": {},
     "output_type": "execute_result"
    }
   ],
   "source": [
    "header = {\n",
    "    \"User-Agent\" : \"Mozilla/5.0 (Macintosh; Intel Mac OS X 10_15_7) AppleWebKit/537.36 (KHTML, like Gecko) Chrome/109.0.0.0 Safari/537.36\"\n",
    "}\n",
    "\n",
    "driver = selenium.webdriver.Chrome()\n",
    "\n",
    "url = \"https://www.ktwiz.co.kr/game/regular/boxscore\"\n",
    "\n",
    "driver.get(url)\n",
    "\n",
    "select_record = \"#root > div.wrap > div.content.game > div.container.game_boxscore > section > div.boxscore_record_wrap\"\n",
    "\n",
    "elements = driver.find_element(By.CSS_SELECTOR, select_record)\n",
    "\n",
    "elements.text"
   ]
  },
  {
   "cell_type": "code",
   "execution_count": null,
   "id": "42c0ae1a",
   "metadata": {},
   "outputs": [],
   "source": []
  }
 ],
 "metadata": {
  "kernelspec": {
   "display_name": "Python 3 (ipykernel)",
   "language": "python",
   "name": "python3"
  },
  "language_info": {
   "codemirror_mode": {
    "name": "ipython",
    "version": 3
   },
   "file_extension": ".py",
   "mimetype": "text/x-python",
   "name": "python",
   "nbconvert_exporter": "python",
   "pygments_lexer": "ipython3",
   "version": "3.10.10"
  },
  "toc": {
   "base_numbering": 1,
   "nav_menu": {},
   "number_sections": true,
   "sideBar": true,
   "skip_h1_title": false,
   "title_cell": "Table of Contents",
   "title_sidebar": "Contents",
   "toc_cell": false,
   "toc_position": {},
   "toc_section_display": true,
   "toc_window_display": false
  }
 },
 "nbformat": 4,
 "nbformat_minor": 5
}
